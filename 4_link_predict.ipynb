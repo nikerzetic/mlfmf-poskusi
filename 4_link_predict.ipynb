{
  "cells": [
    {
      "cell_type": "code",
      "execution_count": 1,
      "metadata": {
        "collapsed": false
      },
      "outputs": [],
      "source": [
        "%matplotlib inline"
      ]
    },
    {
      "cell_type": "markdown",
      "metadata": {},
      "source": [
        "\n",
        "Link Prediction using Graph Neural Networks\n",
        "===========================================\n",
        "\n",
        "In the :doc:`introduction <1_introduction>`, you have already learned\n",
        "the basic workflow of using GNNs for node classification,\n",
        "i.e. predicting the category of a node in a graph. This tutorial will\n",
        "teach you how to train a GNN for link prediction, i.e. predicting the\n",
        "existence of an edge between two arbitrary nodes in a graph.\n",
        "\n",
        "By the end of this tutorial you will be able to\n",
        "\n",
        "-  Build a GNN-based link prediction model.\n",
        "-  Train and evaluate the model on a small DGL-provided dataset.\n",
        "\n",
        "(Time estimate: 28 minutes)\n"
      ]
    },
    {
      "cell_type": "code",
      "execution_count": 2,
      "metadata": {
        "collapsed": false
      },
      "outputs": [],
      "source": [
        "import dgl\n",
        "import torch\n",
        "import torch.nn as nn\n",
        "import torch.nn.functional as F\n",
        "import itertools\n",
        "import numpy as np\n",
        "import scipy.sparse as sp\n",
        "\n",
        "import matplotlib.pyplot as plt\n",
        "import networkx as nx\n",
        "\n",
        "import os"
      ]
    },
    {
      "cell_type": "markdown",
      "metadata": {},
      "source": [
        "Overview of Link Prediction with GNN\n",
        "------------------------------------\n",
        "\n",
        "Many applications such as social recommendation, item recommendation,\n",
        "knowledge graph completion, etc., can be formulated as link prediction,\n",
        "which predicts whether an edge exists between two particular nodes. This\n",
        "tutorial shows an example of predicting whether a citation relationship,\n",
        "either citing or being cited, between two papers exists in a citation\n",
        "network.\n",
        "\n",
        "This tutorial formulates the link prediction problem as a binary classification\n",
        "problem as follows:\n",
        "\n",
        "-  Treat the edges in the graph as *positive examples*.\n",
        "-  Sample a number of non-existent edges (i.e. node pairs with no edges\n",
        "   between them) as *negative* examples.\n",
        "-  Divide the positive examples and negative examples into a training\n",
        "   set and a test set.\n",
        "-  Evaluate the model with any binary classification metric such as Area\n",
        "   Under Curve (AUC).\n",
        "\n",
        "<div class=\"alert alert-info\"><h4>Note</h4><p>The practice comes from\n",
        "   `SEAL <https://papers.nips.cc/paper/2018/file/53f0d7c537d99b3824f0f99d62ea2428-Paper.pdf>`__,\n",
        "   although the model here does not use their idea of node labeling.</p></div>\n",
        "\n",
        "In some domains such as large-scale recommender systems or information\n",
        "retrieval, you may favor metrics that emphasize good performance of\n",
        "top-K predictions. In these cases you may want to consider other metrics\n",
        "such as mean average precision, and use other negative sampling methods,\n",
        "which are beyond the scope of this tutorial.\n",
        "\n",
        "Loading graph and features\n",
        "--------------------------\n",
        "\n",
        "Following the :doc:`introduction <1_introduction>`, this tutorial\n",
        "first loads the Cora dataset.\n",
        "\n",
        "\n"
      ]
    },
    {
      "cell_type": "code",
      "execution_count": 3,
      "metadata": {
        "collapsed": false
      },
      "outputs": [
        {
          "name": "stdout",
          "output_type": "stream",
          "text": [
            "Loading network and entries for stdlib\n",
            "Loading entries ...\n"
          ]
        },
        {
          "name": "stderr",
          "output_type": "stream",
          "text": [
            "100%|██████████| 16483/16483 [05:16<00:00, 52.04it/s]  \n"
          ]
        },
        {
          "name": "stdout",
          "output_type": "stream",
          "text": [
            "Loaded 16483 entries.\n",
            "Loading network ...\n",
            "Loaded G(V, E) where (|V|, |E|) = (16855, 242484)\n",
            "Creating dictionaries for stdlib...\n",
            "Reading embeddings for stdlib...\n"
          ]
        },
        {
          "name": "stderr",
          "output_type": "stream",
          "text": [
            "16483it [00:01, 15718.86it/s]\n"
          ]
        }
      ],
      "source": [
        "import helpers\n",
        "\n",
        "\n",
        "library = \"stdlib\"\n",
        "\n",
        "print(\"Loading network and entries for\", library)\n",
        "entries, network = helpers.load_library(library)\n",
        "raw2label, label2raw = helpers.create_dictionaries(library)\n",
        "embeddings, embedding_size = helpers.read_embeddings(library)"
      ]
    },
    {
      "cell_type": "code",
      "execution_count": 4,
      "metadata": {},
      "outputs": [],
      "source": [
        "predicted_attr = \"embedding\""
      ]
    },
    {
      "cell_type": "code",
      "execution_count": 5,
      "metadata": {},
      "outputs": [],
      "source": [
        "# One Hot Encoding\n",
        "\n",
        "node_labels_counter = {}\n",
        "for data in network.nodes.data():\n",
        "    label = data[1][\"label\"]\n",
        "    if label in node_labels_counter:\n",
        "        node_labels_counter[label] += 1\n",
        "    else:\n",
        "        node_labels_counter[label] = 1\n",
        "\n",
        "node_labels_list = list(node_labels_counter.keys())\n",
        "\n",
        "for node in network.nodes:\n",
        "    label = network.nodes[node][\"label\"]\n",
        "    network.nodes[node][\"encoded label\"] = [float(item == label) for item in node_labels_list]"
      ]
    },
    {
      "cell_type": "code",
      "execution_count": 6,
      "metadata": {},
      "outputs": [],
      "source": [
        "edge_labels_counter = {}\n",
        "for data in network.edges:\n",
        "    label = data[2]\n",
        "    if label in edge_labels_counter:\n",
        "        edge_labels_counter[label] += 1\n",
        "    else:\n",
        "        edge_labels_counter[label] = 1\n",
        "\n",
        "edge_labels_list = list(edge_labels_counter.keys())\n",
        "\n",
        "for edge in network.edges:\n",
        "    label = edge[2]\n",
        "    network.edges[edge][\"encoded label\"] = [float(item == label) for item in edge_labels_list]"
      ]
    },
    {
      "cell_type": "code",
      "execution_count": 7,
      "metadata": {},
      "outputs": [
        {
          "data": {
            "text/plain": [
              "{'REFERENCE_BODY': 137040,\n",
              " 'REFERENCE_TYPE': 88591,\n",
              " 'CONTAINS': 380,\n",
              " 'DEFINES': 16473}"
            ]
          },
          "execution_count": 7,
          "metadata": {},
          "output_type": "execute_result"
        }
      ],
      "source": [
        "edge_labels_counter"
      ]
    },
    {
      "cell_type": "code",
      "execution_count": 8,
      "metadata": {},
      "outputs": [
        {
          "data": {
            "text/plain": [
              "412"
            ]
          },
          "execution_count": 8,
          "metadata": {},
          "output_type": "execute_result"
        }
      ],
      "source": [
        "# Add embeddings to labels\n",
        "import random\n",
        "\n",
        "not_in_raw2label = []\n",
        "for node in network.nodes:\n",
        "    name = raw2label.get(node, \"no name\")\n",
        "    if name == \"no name\":\n",
        "        not_in_raw2label.append(node)\n",
        "    embedding = embeddings.get(name, [0 for _ in range(embedding_size)])\n",
        "    network.nodes[node][\"embedding\"] = [float(x) for x in embedding]\n",
        "\n",
        "len(not_in_raw2label)"
      ]
    },
    {
      "cell_type": "code",
      "execution_count": 9,
      "metadata": {},
      "outputs": [],
      "source": [
        "\n",
        "g = dgl.from_networkx(network,node_attrs=[\"encoded label\", \"embedding\"],edge_attrs=[\"encoded label\"])"
      ]
    },
    {
      "cell_type": "markdown",
      "metadata": {},
      "source": [
        "Prepare training and testing sets\n",
        "---------------------------------\n",
        "\n",
        "This tutorial randomly picks 10% of the edges for positive examples in\n",
        "the test set, and leave the rest for the training set. It then samples\n",
        "the same number of edges for negative examples in both sets.\n",
        "\n",
        "\n"
      ]
    },
    {
      "cell_type": "code",
      "execution_count": 10,
      "metadata": {
        "collapsed": false
      },
      "outputs": [],
      "source": [
        "# Split edge set for training and testing\n",
        "u, v = g.edges()\n",
        "\n",
        "eids = np.arange(g.number_of_edges())\n",
        "eids = np.random.permutation(eids)\n",
        "test_size = int(len(eids) * 0.1)\n",
        "train_size = g.number_of_edges() - test_size\n",
        "test_pos_u, test_pos_v = u[eids[:test_size]], v[eids[:test_size]]\n",
        "train_pos_u, train_pos_v = u[eids[test_size:]], v[eids[test_size:]]\n",
        "\n",
        "# Find all negative edges and split them for training and testing\n",
        "adj = sp.coo_matrix((np.ones(len(u)), (u.numpy(), v.numpy())), shape=(g.number_of_nodes(), g.number_of_nodes()))\n",
        "adj_neg = 1 - adj.todense() - np.eye(g.number_of_nodes())\n",
        "neg_u, neg_v = np.where(adj_neg != 0)\n",
        "\n",
        "neg_eids = np.random.choice(len(neg_u), g.number_of_edges())\n",
        "test_neg_u, test_neg_v = neg_u[neg_eids[:test_size]], neg_v[neg_eids[:test_size]]\n",
        "train_neg_u, train_neg_v = neg_u[neg_eids[test_size:]], neg_v[neg_eids[test_size:]]"
      ]
    },
    {
      "cell_type": "markdown",
      "metadata": {},
      "source": [
        "When training, you will need to remove the edges in the test set from\n",
        "the original graph. You can do this via ``dgl.remove_edges``.\n",
        "\n",
        "<div class=\"alert alert-info\"><h4>Note</h4><p>``dgl.remove_edges`` works by creating a subgraph from the\n",
        "   original graph, resulting in a copy and therefore could be slow for\n",
        "   large graphs. If so, you could save the training and test graph to\n",
        "   disk, as you would do for preprocessing.</p></div>\n",
        "\n",
        "\n"
      ]
    },
    {
      "cell_type": "code",
      "execution_count": 11,
      "metadata": {
        "collapsed": false
      },
      "outputs": [],
      "source": [
        "train_g = dgl.remove_edges(g, eids[:test_size])"
      ]
    },
    {
      "cell_type": "markdown",
      "metadata": {},
      "source": [
        "Define a GraphSAGE model\n",
        "------------------------\n",
        "\n",
        "This tutorial builds a model consisting of two\n",
        "`GraphSAGE <https://arxiv.org/abs/1706.02216>`__ layers, each computes\n",
        "new node representations by averaging neighbor information. DGL provides\n",
        "``dgl.nn.SAGEConv`` that conveniently creates a GraphSAGE layer.\n",
        "\n",
        "\n"
      ]
    },
    {
      "cell_type": "code",
      "execution_count": 12,
      "metadata": {
        "collapsed": false
      },
      "outputs": [],
      "source": [
        "from dgl.nn import SAGEConv\n",
        "\n",
        "# ----------- 2. create model -------------- #\n",
        "# build a two-layer GraphSAGE model\n",
        "class GraphSAGE(nn.Module):\n",
        "    def __init__(self, in_feats, h_feats):\n",
        "        super(GraphSAGE, self).__init__()\n",
        "        self.conv1 = SAGEConv(in_feats, h_feats, 'mean')\n",
        "        self.conv2 = SAGEConv(h_feats, h_feats, 'mean')\n",
        "    \n",
        "    def forward(self, g, in_feat):\n",
        "        h = self.conv1(g, in_feat)\n",
        "        h = F.relu(h)\n",
        "        h = self.conv2(g, h)\n",
        "        return h"
      ]
    },
    {
      "cell_type": "markdown",
      "metadata": {},
      "source": [
        "The model then predicts the probability of existence of an edge by\n",
        "computing a score between the representations of both incident nodes\n",
        "with a function (e.g. an MLP or a dot product), which you will see in\n",
        "the next section.\n",
        "\n",
        "\\begin{align}\\hat{y}_{u\\sim v} = f(h_u, h_v)\\end{align}\n",
        "\n",
        "\n"
      ]
    },
    {
      "cell_type": "markdown",
      "metadata": {},
      "source": [
        "Positive graph, negative graph, and ``apply_edges``\n",
        "---------------------------------------------------\n",
        "\n",
        "In previous tutorials you have learned how to compute node\n",
        "representations with a GNN. However, link prediction requires you to\n",
        "compute representation of *pairs of nodes*.\n",
        "\n",
        "DGL recommends you to treat the pairs of nodes as another graph, since\n",
        "you can describe a pair of nodes with an edge. In link prediction, you\n",
        "will have a *positive graph* consisting of all the positive examples as\n",
        "edges, and a *negative graph* consisting of all the negative examples.\n",
        "The *positive graph* and the *negative graph* will contain the same set\n",
        "of nodes as the original graph.  This makes it easier to pass node\n",
        "features among multiple graphs for computation.  As you will see later,\n",
        "you can directly feed the node representations computed on the entire\n",
        "graph to the positive and the negative graphs for computing pair-wise\n",
        "scores.\n",
        "\n",
        "The following code constructs the positive graph and the negative graph\n",
        "for the training set and the test set respectively.\n",
        "\n",
        "\n"
      ]
    },
    {
      "cell_type": "code",
      "execution_count": 13,
      "metadata": {
        "collapsed": false
      },
      "outputs": [],
      "source": [
        "train_pos_g = dgl.graph((train_pos_u, train_pos_v), num_nodes=g.number_of_nodes())\n",
        "train_neg_g = dgl.graph((train_neg_u, train_neg_v), num_nodes=g.number_of_nodes())\n",
        "\n",
        "test_pos_g = dgl.graph((test_pos_u, test_pos_v), num_nodes=g.number_of_nodes())\n",
        "test_neg_g = dgl.graph((test_neg_u, test_neg_v), num_nodes=g.number_of_nodes())"
      ]
    },
    {
      "cell_type": "markdown",
      "metadata": {},
      "source": [
        "The benefit of treating the pairs of nodes as a graph is that you can\n",
        "use the ``DGLGraph.apply_edges`` method, which conveniently computes new\n",
        "edge features based on the incident nodes’ features and the original\n",
        "edge features (if applicable).\n",
        "\n",
        "DGL provides a set of optimized builtin functions to compute new\n",
        "edge features based on the original node/edge features. For example,\n",
        "``dgl.function.u_dot_v`` computes a dot product of the incident nodes’\n",
        "representations for each edge.\n",
        "\n",
        "\n"
      ]
    },
    {
      "cell_type": "code",
      "execution_count": 14,
      "metadata": {
        "collapsed": false
      },
      "outputs": [],
      "source": [
        "import dgl.function as fn\n",
        "\n",
        "class DotPredictor(nn.Module):\n",
        "    def forward(self, g, h):\n",
        "        with g.local_scope():\n",
        "            g.ndata['h'] = h\n",
        "            # Compute a new edge feature named 'score' by a dot-product between the\n",
        "            # source node feature 'h' and destination node feature 'h'.\n",
        "            g.apply_edges(fn.u_dot_v('h', 'h', 'score'))\n",
        "            # u_dot_v returns a 1-element vector for each edge so you need to squeeze it.\n",
        "            return g.edata['score'][:, 0]"
      ]
    },
    {
      "cell_type": "markdown",
      "metadata": {},
      "source": [
        "You can also write your own function if it is complex.\n",
        "For instance, the following module produces a scalar score on each edge\n",
        "by concatenating the incident nodes’ features and passing it to an MLP.\n",
        "\n",
        "\n"
      ]
    },
    {
      "cell_type": "code",
      "execution_count": 15,
      "metadata": {
        "collapsed": false
      },
      "outputs": [],
      "source": [
        "class MLPPredictor(nn.Module):\n",
        "    def __init__(self, h_feats):\n",
        "        super().__init__()\n",
        "        self.W1 = nn.Linear(h_feats * 2, h_feats)\n",
        "        self.W2 = nn.Linear(h_feats, 1)\n",
        "\n",
        "    def apply_edges(self, edges):\n",
        "        \"\"\"\n",
        "        Computes a scalar score for each edge of the given graph.\n",
        "\n",
        "        Parameters\n",
        "        ----------\n",
        "        edges :\n",
        "            Has three members ``src``, ``dst`` and ``data``, each of\n",
        "            which is a dictionary representing the features of the\n",
        "            source nodes, the destination nodes, and the edges\n",
        "            themselves.\n",
        "\n",
        "        Returns\n",
        "        -------\n",
        "        dict\n",
        "            A dictionary of new edge features.\n",
        "        \"\"\"\n",
        "        h = torch.cat([edges.src['h'], edges.dst['h']], 1)\n",
        "        return {'score': self.W2(F.relu(self.W1(h))).squeeze(1)}\n",
        "\n",
        "    def forward(self, g, h):\n",
        "        with g.local_scope():\n",
        "            g.ndata['h'] = h\n",
        "            g.apply_edges(self.apply_edges)\n",
        "            return g.edata['score']"
      ]
    },
    {
      "cell_type": "markdown",
      "metadata": {},
      "source": [
        "<div class=\"alert alert-info\"><h4>Note</h4><p>The builtin functions are optimized for both speed and memory.\n",
        "   We recommend using builtin functions whenever possible.</p></div>\n",
        "\n",
        "<div class=\"alert alert-info\"><h4>Note</h4><p>If you have read the :doc:`message passing\n",
        "   tutorial <3_message_passing>`, you will notice that the\n",
        "   argument ``apply_edges`` takes has exactly the same form as a message\n",
        "   function in ``update_all``.</p></div>\n",
        "\n",
        "\n"
      ]
    },
    {
      "cell_type": "markdown",
      "metadata": {},
      "source": [
        "Training loop\n",
        "-------------\n",
        "\n",
        "After you defined the node representation computation and the edge score\n",
        "computation, you can go ahead and define the overall model, loss\n",
        "function, and evaluation metric.\n",
        "\n",
        "The loss function is simply binary cross entropy loss.\n",
        "\n",
        "\\begin{align}\\mathcal{L} = -\\sum_{u\\sim v\\in \\mathcal{D}}\\left( y_{u\\sim v}\\log(\\hat{y}_{u\\sim v}) + (1-y_{u\\sim v})\\log(1-\\hat{y}_{u\\sim v})) \\right)\\end{align}\n",
        "\n",
        "The evaluation metric in this tutorial is AUC.\n",
        "\n",
        "\n"
      ]
    },
    {
      "cell_type": "code",
      "execution_count": 16,
      "metadata": {},
      "outputs": [
        {
          "data": {
            "text/plain": [
              "torch.Size([16855, 32])"
            ]
          },
          "execution_count": 16,
          "metadata": {},
          "output_type": "execute_result"
        }
      ],
      "source": [
        "train_g.ndata[predicted_attr].shape"
      ]
    },
    {
      "cell_type": "code",
      "execution_count": 17,
      "metadata": {
        "collapsed": false
      },
      "outputs": [],
      "source": [
        "from sklearn.metrics import roc_auc_score, roc_curve\n",
        "\n",
        "model = GraphSAGE(train_g.ndata[predicted_attr].shape[1], 16)\n",
        "# You can replace DotPredictor with MLPPredictor.\n",
        "#pred = MLPPredictor(16)\n",
        "pred = DotPredictor()\n",
        "\n",
        "def compute_loss(pos_score, neg_score):\n",
        "    scores = torch.cat([pos_score, neg_score])\n",
        "    labels = torch.cat([torch.ones(pos_score.shape[0]), torch.zeros(neg_score.shape[0])])\n",
        "    return F.binary_cross_entropy_with_logits(scores, labels)\n",
        "\n",
        "def compute_auc(pos_score, neg_score):\n",
        "    scores = torch.cat([pos_score, neg_score]).numpy()\n",
        "    labels = torch.cat(\n",
        "        [torch.ones(pos_score.shape[0]), torch.zeros(neg_score.shape[0])]).numpy()\n",
        "    return roc_auc_score(labels, scores)\n",
        "\n",
        "def plot_roc_curve(pos_score, neg_score):\n",
        "    scores = torch.cat([pos_score, neg_score]).numpy()\n",
        "    labels = torch.cat(\n",
        "        [torch.ones(pos_score.shape[0]), torch.zeros(neg_score.shape[0])]).numpy()\n",
        "    fpr, tpr, treshold = roc_curve(labels, scores)\n",
        "    plt.plot(fpr, tpr)"
      ]
    },
    {
      "cell_type": "markdown",
      "metadata": {},
      "source": [
        "The training loop goes as follows:\n",
        "\n",
        "<div class=\"alert alert-info\"><h4>Note</h4><p>This tutorial does not include evaluation on a validation\n",
        "   set. In practice you should save and evaluate the best model based on\n",
        "   performance on the validation set.</p></div>\n",
        "\n",
        "\n"
      ]
    },
    {
      "cell_type": "code",
      "execution_count": 18,
      "metadata": {
        "collapsed": false
      },
      "outputs": [
        {
          "name": "stdout",
          "output_type": "stream",
          "text": [
            "In epoch 0, loss: 144.93731689453125\n",
            "In epoch 1000, loss: 0.654693067073822\n",
            "In epoch 2000, loss: 0.6392238736152649\n",
            "In epoch 3000, loss: 0.5877560377120972\n",
            "In epoch 4000, loss: 0.5631158947944641\n",
            "In epoch 5000, loss: 0.5439779162406921\n",
            "In epoch 6000, loss: 0.5299363136291504\n",
            "In epoch 7000, loss: 0.522345244884491\n",
            "In epoch 8000, loss: 0.5091405510902405\n",
            "In epoch 9000, loss: 0.5025455951690674\n",
            "In epoch 10000, loss: 0.49967440962791443\n",
            "In epoch 11000, loss: 0.49393245577812195\n",
            "In epoch 12000, loss: 0.49236413836479187\n",
            "In epoch 13000, loss: 0.4873451590538025\n",
            "In epoch 14000, loss: 0.4828374981880188\n",
            "In epoch 15000, loss: 0.4798508584499359\n",
            "In epoch 16000, loss: 0.4866562485694885\n",
            "In epoch 17000, loss: 0.4775466322898865\n",
            "In epoch 18000, loss: 0.48031672835350037\n",
            "In epoch 19000, loss: 0.48266565799713135\n",
            "In epoch 20000, loss: 0.4811326563358307\n",
            "In epoch 21000, loss: 0.47404173016548157\n",
            "In epoch 22000, loss: 0.5471391677856445\n",
            "In epoch 23000, loss: 0.4731850028038025\n",
            "In epoch 24000, loss: 0.48272573947906494\n",
            "AUC 0.8945589212662379\n"
          ]
        }
      ],
      "source": [
        "# ----------- 3. set up loss and optimizer -------------- #\n",
        "# in this case, loss will in training loop\n",
        "optimizer = torch.optim.Adam(itertools.chain(model.parameters(), pred.parameters()), lr=0.01)\n",
        "\n",
        "# ----------- 4. training -------------------------------- #\n",
        "all_logits = []\n",
        "for e in range(25000):\n",
        "    # forward\n",
        "    h = model(train_g, train_g.ndata[predicted_attr])\n",
        "    pos_score = pred(train_pos_g, h)\n",
        "    neg_score = pred(train_neg_g, h)\n",
        "    loss = compute_loss(pos_score, neg_score)\n",
        "    \n",
        "    # backward\n",
        "    optimizer.zero_grad()\n",
        "    loss.backward()\n",
        "    optimizer.step()\n",
        "    \n",
        "    if e % 1000 == 0:\n",
        "        print('In epoch {}, loss: {}'.format(e, loss))\n",
        "\n",
        "# ----------- 5. check results ------------------------ #\n",
        "with torch.no_grad():\n",
        "    pos_score = pred(test_pos_g, h)\n",
        "    neg_score = pred(test_neg_g, h)\n",
        "    print('AUC', compute_auc(pos_score, neg_score))\n",
        "\n",
        "\n",
        "# Thumbnail credits: Link Prediction with Neo4j, Mark Needham\n",
        "# sphinx_gallery_thumbnail_path = '_static/blitz_4_link_predict.png'"
      ]
    },
    {
      "cell_type": "code",
      "execution_count": 19,
      "metadata": {},
      "outputs": [
        {
          "data": {
            "image/png": "[encoded data removed]",
            "text/plain": [
              "<Figure size 640x480 with 1 Axes>"
            ]
          },
          "metadata": {},
          "output_type": "display_data"
        }
      ],
      "source": [
        "plot_roc_curve(pos_score, neg_score)"
      ]
    },
    {
      "cell_type": "code",
      "execution_count": 20,
      "metadata": {},
      "outputs": [
        {
          "name": "stdout",
          "output_type": "stream",
          "text": [
            "Done\n"
          ]
        }
      ],
      "source": [
        "# from_networkx relabels original G.nodes with ordering corresponding to sorted(G.nodes)\n",
        "for og, new in zip(sorted(network.nodes), g.ndata[\"embedding\"]):\n",
        "    if (torch.tensor(network.nodes[og][\"embedding\"])-new).count_nonzero(): \n",
        "        print(og)\n",
        "print(\"Done\")"
      ]
    },
    {
      "cell_type": "code",
      "execution_count": 21,
      "metadata": {},
      "outputs": [
        {
          "data": {
            "text/plain": [
              "torch.Size([16855, 32])"
            ]
          },
          "execution_count": 21,
          "metadata": {},
          "output_type": "execute_result"
        }
      ],
      "source": [
        "g.ndata[\"embedding\"].shape"
      ]
    },
    {
      "cell_type": "code",
      "execution_count": 22,
      "metadata": {},
      "outputs": [],
      "source": [
        "def add_children_to_graph(G: nx.DiGraph, e: helpers.EntryNode):\n",
        "    for child in e.children:\n",
        "        add_children_to_graph(G, child)\n",
        "    \n",
        "    G.add_node(\n",
        "        e.id, \n",
        "        type=e.type.replace(\":\", \"\"), \n",
        "        desc=e.description\n",
        "        )\n",
        "        \n",
        "    for child in e.children:\n",
        "        G.add_edge(e.id, child.id)\n",
        "\n",
        "def draw_syntax_tree(G: nx.DiGraph, width=None, heigth=None):\n",
        "    type_labels = nx.get_node_attributes(G, \"type\")\n",
        "    desc_labels = nx.get_node_attributes(G, \"desc\")\n",
        "\n",
        "    pos = nx.nx_pydot.graphviz_layout(G, prog=\"dot\")\n",
        "    state_pos = {n: (x, y-8) for n, (x,y) in pos.items()}\n",
        "\n",
        "\n",
        "    size = G.number_of_nodes() // np.ceil(np.power(G.number_of_nodes(), 0.25))\n",
        "    width, heigth = size, size\n",
        "    plt.figure(figsize=(width, heigth), dpi=100)\n",
        "    # prop = mfm.FontProperties(fname=font_path)\n",
        "    nx.draw_networkx(G, pos, labels=type_labels, node_size=1000, font_size=9)\n",
        "    nx.draw_networkx_labels(G, state_pos, labels=desc_labels, font_color='red', font_size=9)\n",
        "\n",
        "def change_nodes_encoding(G: nx.DiGraph):\n",
        "    \"\"\"\n",
        "    Replaces Unicode symbols with \"?\", because Networkx does not work with Unicode symbols found in Agda.\n",
        "    \"\"\"\n",
        "    for node in G.nodes:\n",
        "        data = G.nodes[node]\n",
        "        data[\"type\"] = data[\"type\"].encode(\"ascii\", \"replace\").decode(\"utf-8\")\n",
        "        data[\"desc\"] = data[\"desc\"].encode(\"ascii\", \"replace\").decode(\"utf-8\")\n",
        "\n",
        "def draw_syntax_tree_of_entry(entry: helpers.Entry):\n",
        "    G = nx.DiGraph()\n",
        "    add_children_to_graph(G, entry.root)\n",
        "    try:\n",
        "        draw_syntax_tree(G)\n",
        "    except UnicodeEncodeError:\n",
        "        change_nodes_encoding(G)\n",
        "        draw_syntax_tree(G)"
      ]
    },
    {
      "cell_type": "code",
      "execution_count": 23,
      "metadata": {},
      "outputs": [
        {
          "name": "stdout",
          "output_type": "stream",
          "text": [
            "Entry:  NODE ID\tNODE TYPE\tNODE DESCRIPTION\tCHILDREN IDS\n",
            "137\t:entry\t\t[138, 139, 140]\n",
            "138\t:name\tAgda.Builtin.Char.Char 6\t[]\n",
            "139\t:type\t\t[141, 142]\n",
            "141\t:sort\t\t[143]\n",
            "143\t:sort-set\t\t[145]\n",
            "145\t:max\t1\t[]\n",
            "142\t:sort\t\t[144]\n",
            "144\t:sort\t\t[146]\n",
            "146\t:sort-set\t\t[147]\n",
            "147\t:max\t0\t[]\n",
            "140\t:axiom\t\t[] \n",
            "Name:  Agda.Builtin.Char.Char 6 \n",
            "Root:  \n",
            "\tId:  137 \n",
            "\tType:  :entry \n",
            "\tDescription:   \n",
            "\tParents:  [] \n",
            "\tChildren:  [EntryNode(138, :name, Agda.Builtin.Char.Char 6), EntryNode(139, :type, ), EntryNode(140, :axiom, )] \n",
            "\n",
            "Corresponding network node:  {'label': ':axiom', 'encoded label': [0.0, 0.0, 0.0, 1.0, 0.0, 0.0, 0.0, 0.0, 0.0, 0.0, 0.0, 0.0], 'embedding': [0.5623220205307007, 2.496194839477539, -8.254894256591797, -5.9228901863098145, -3.237015724182129, -2.9756710529327393, -5.117443084716797, -3.374208450317383, -2.389589786529541, 5.63838005065918, 5.98664665222168, 8.371694564819336, 5.814186096191406, -3.2011735439300537, -6.185726642608643, 8.101141929626465, -4.383055210113525, 7.190655708312988, 1.4606332778930664, -8.272747039794922, 6.896576404571533, -1.4152019023895264, 5.673278331756592, -3.303635358810425, -4.904766082763672, 7.216033935546875, 3.8586161136627197, 2.913214683532715, 0.549202561378479, -8.358442306518555, -4.1105427742004395, -5.041430950164795]}\n"
          ]
        },
        {
          "data": {
            "image/png": "[encoded data removed]",
            "text/plain": [
              "<Figure size 500x500 with 1 Axes>"
            ]
          },
          "metadata": {},
          "output_type": "display_data"
        }
      ],
      "source": [
        "e = entries[4] # 42\n",
        "print(\n",
        "    \"Entry: \", e,\n",
        "    \"\\nName: \", e.name,\n",
        "    \"\\nRoot: \",\n",
        "    \"\\n\\tId: \", e.root.id,\n",
        "    \"\\n\\tType: \", e.root.type,\n",
        "    \"\\n\\tDescription: \", e.root.description,\n",
        "    \"\\n\\tParents: \", e.root.parents,\n",
        "    \"\\n\\tChildren: \", e.root.children,\n",
        "    \"\\n\\nCorresponding network node: \", network.nodes[e.name],\n",
        ")\n",
        "\n",
        "draw_syntax_tree_of_entry(e)"
      ]
    },
    {
      "cell_type": "code",
      "execution_count": 24,
      "metadata": {},
      "outputs": [
        {
          "data": {
            "text/plain": [
              "{':name': 956753,\n",
              " ':max': 482463,\n",
              " ':sort-set': 389352,\n",
              " ':sort': 474487,\n",
              " ':type': 436858,\n",
              " ':data': 122,\n",
              " ':entry': 16483,\n",
              " ':apply': 707183,\n",
              " ':constructor': 12092,\n",
              " ':hidden': 814936,\n",
              " ':user-written': 1906989,\n",
              " ':level': 89106,\n",
              " ':arg': 1956390,\n",
              " ':not-hidden': 1138259,\n",
              " ':var': 1858884,\n",
              " ':anonymous': 25240,\n",
              " ':pi': 125820,\n",
              " ':bound': 333775,\n",
              " ':primitive': 114,\n",
              " ':axiom': 73,\n",
              " ':sort-setω': 49347,\n",
              " ':plus': 514345,\n",
              " ':record': 502,\n",
              " ':pattern-var': 109549,\n",
              " ':arg-noname': 38502,\n",
              " ':pattern': 20631,\n",
              " ':telescope': 20631,\n",
              " ':body': 19928,\n",
              " ':clause': 20631,\n",
              " ':function': 14881,\n",
              " ':interval-arg': 3515,\n",
              " ':lambda': 105078,\n",
              " ':sort-interval': 2861,\n",
              " ':sort-sset': 4004,\n",
              " ':constr': 120185,\n",
              " ':arg-name': 102145,\n",
              " ':proj': 93960,\n",
              " ':inserted': 143268,\n",
              " ':dot': 15192,\n",
              " ':no-body': 703,\n",
              " ':interval-apply': 2,\n",
              " ':sort-fun': 910,\n",
              " ':def': 4491,\n",
              " ':literal': 3798,\n",
              " ':no-type': 322,\n",
              " ':sort-size': 14,\n",
              " ':sort-prop': 1,\n",
              " ':instance': 3195,\n",
              " ':irrelevant': 1}"
            ]
          },
          "execution_count": 24,
          "metadata": {},
          "output_type": "execute_result"
        }
      ],
      "source": [
        "types_counter = {}\n",
        "\n",
        "def process_entry_node_for_type(entry: helpers.EntryNode):\n",
        "    for child in entry.children:\n",
        "        process_entry_node_for_type(child)\n",
        "    entry_type = entry.type\n",
        "    if entry_type in types_counter:\n",
        "        types_counter[entry_type] += 1\n",
        "    else:\n",
        "        types_counter[entry_type] = 1\n",
        "\n",
        "for entry in entries:\n",
        "    process_entry_node_for_type(entry.root)\n",
        "\n",
        "types_counter"
      ]
    },
    {
      "cell_type": "code",
      "execution_count": 25,
      "metadata": {},
      "outputs": [
        {
          "data": {
            "text/plain": [
              "49"
            ]
          },
          "execution_count": 25,
          "metadata": {},
          "output_type": "execute_result"
        }
      ],
      "source": [
        "len(types_counter)"
      ]
    }
  ],
  "metadata": {
    "kernelspec": {
      "display_name": "Python 3",
      "language": "python",
      "name": "python3"
    },
    "language_info": {
      "codemirror_mode": {
        "name": "ipython",
        "version": 3
      },
      "file_extension": ".py",
      "mimetype": "text/x-python",
      "name": "python",
      "nbconvert_exporter": "python",
      "pygments_lexer": "ipython3",
      "version": "3.11.2"
    }
  },
  "nbformat": 4,
  "nbformat_minor": 0
}
