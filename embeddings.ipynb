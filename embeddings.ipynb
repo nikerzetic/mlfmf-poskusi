{
 "cells": [
  {
   "cell_type": "code",
   "execution_count": 1,
   "metadata": {},
   "outputs": [],
   "source": [
    "from omegaconf import OmegaConf\n",
    "config = OmegaConf.load(\"D:\\\\Nik\\\\Projects\\\\mlfmf-poskusi\\\\code2seq-config.yaml\")"
   ]
  },
  {
   "cell_type": "code",
   "execution_count": 2,
   "metadata": {},
   "outputs": [],
   "source": [
    "from code2seq.model import Code2Seq\n",
    "model = Code2Seq.load_from_checkpoint(\"D:\\\\Nik\\\\Projects\\\\mlfmf-poskusi\\\\lightning_logs\\\\version_37\\\\checkpoints\\\\epoch=9-step=199.ckpt\")"
   ]
  },
  {
   "cell_type": "code",
   "execution_count": 3,
   "metadata": {},
   "outputs": [],
   "source": [
    "from code2seq.data.path_context_data_module import PathContextDataModule\n",
    "data_module = PathContextDataModule(\n",
    "    config.data_folder,\n",
    "    config.data\n",
    ")"
   ]
  },
  {
   "cell_type": "code",
   "execution_count": 4,
   "metadata": {},
   "outputs": [
    {
     "data": {
      "text/plain": [
       "Code2Seq(\n",
       "  (_Code2Seq__metrics): MetricCollection(\n",
       "    (test_chrf): ChrF()\n",
       "    (test_f1): SequentialF1Score()\n",
       "    (train_f1): SequentialF1Score()\n",
       "    (val_chrf): ChrF()\n",
       "    (val_f1): SequentialF1Score()\n",
       "  )\n",
       "  (_encoder): PathEncoder(\n",
       "    (token_embedding): Embedding(1195, 128, padding_idx=0)\n",
       "    (node_embedding): Embedding(42, 128, padding_idx=0)\n",
       "    (dropout_rnn): Dropout(p=0.25, inplace=False)\n",
       "    (path_lstm): LSTM(128, 128, bidirectional=True)\n",
       "    (embedding_dropout): Dropout(p=0.25, inplace=False)\n",
       "    (linear): Linear(in_features=512, out_features=128, bias=False)\n",
       "    (norm): LayerNorm((128,), eps=1e-05, elementwise_affine=True)\n",
       "  )\n",
       "  (_decoder): Decoder(\n",
       "    (_decoder_step): LSTMDecoderStep(\n",
       "      (_target_embedding): Embedding(429, 128, padding_idx=0)\n",
       "      (_attention): LuongAttention(\n",
       "        (attn): Linear(in_features=128, out_features=128, bias=False)\n",
       "      )\n",
       "      (_decoder_lstm): LSTM(128, 128, batch_first=True)\n",
       "      (_dropout_rnn): Dropout(p=0.5, inplace=False)\n",
       "      (_concat_layer): Linear(in_features=256, out_features=128, bias=False)\n",
       "      (_norm): LayerNorm((128,), eps=1e-05, elementwise_affine=True)\n",
       "      (_projection_layer): Linear(in_features=128, out_features=429, bias=False)\n",
       "    )\n",
       "  )\n",
       "  (_Code2Seq__loss): SequenceCrossEntropyLoss()\n",
       ")"
      ]
     },
     "execution_count": 4,
     "metadata": {},
     "output_type": "execute_result"
    }
   ],
   "source": [
    "model"
   ]
  },
  {
   "cell_type": "code",
   "execution_count": 5,
   "metadata": {},
   "outputs": [
    {
     "data": {
      "application/vnd.jupyter.widget-view+json": {
       "model_id": "1182443557d0407d8c22e4f56d34445e",
       "version_major": 2,
       "version_minor": 0
      },
      "text/plain": [
       "  0%|          | 0/3280 [00:00<?, ?it/s]"
      ]
     },
     "metadata": {},
     "output_type": "display_data"
    }
   ],
   "source": [
    "predict_data_loader = data_module.predict_dataloader()"
   ]
  },
  {
   "cell_type": "code",
   "execution_count": 6,
   "metadata": {},
   "outputs": [],
   "source": [
    "sample = next(iter(predict_data_loader))"
   ]
  },
  {
   "cell_type": "code",
   "execution_count": 7,
   "metadata": {},
   "outputs": [
    {
     "data": {
      "text/plain": [
       "torch.Size([7, 5626])"
      ]
     },
     "execution_count": 7,
     "metadata": {},
     "output_type": "execute_result"
    }
   ],
   "source": [
    "sample.from_token.shape"
   ]
  },
  {
   "cell_type": "code",
   "execution_count": 8,
   "metadata": {},
   "outputs": [],
   "source": [
    "output_logits, attention_weights = model.forward(sample.from_token, sample.path_nodes, sample.to_token, sample.contexts_per_label, sample.labels.shape[0])"
   ]
  },
  {
   "cell_type": "code",
   "execution_count": 9,
   "metadata": {},
   "outputs": [
    {
     "data": {
      "text/plain": [
       "torch.Size([8, 766, 429])"
      ]
     },
     "execution_count": 9,
     "metadata": {},
     "output_type": "execute_result"
    }
   ],
   "source": [
    "output_logits.shape"
   ]
  },
  {
   "cell_type": "code",
   "execution_count": 10,
   "metadata": {},
   "outputs": [
    {
     "data": {
      "text/plain": [
       "torch.Size([8, 766, 142])"
      ]
     },
     "execution_count": 10,
     "metadata": {},
     "output_type": "execute_result"
    }
   ],
   "source": [
    "attention_weights.shape"
   ]
  },
  {
   "cell_type": "code",
   "execution_count": 11,
   "metadata": {},
   "outputs": [
    {
     "data": {
      "text/plain": [
       "torch.Size([766, 429])"
      ]
     },
     "execution_count": 11,
     "metadata": {},
     "output_type": "execute_result"
    }
   ],
   "source": [
    "output_logits[0].shape"
   ]
  },
  {
   "cell_type": "code",
   "execution_count": 12,
   "metadata": {},
   "outputs": [],
   "source": [
    "prediction = output_logits.argmax(-1)"
   ]
  },
  {
   "cell_type": "code",
   "execution_count": 13,
   "metadata": {},
   "outputs": [
    {
     "data": {
      "text/plain": [
       "tensor([[2, 2, 2,  ..., 2, 2, 2],\n",
       "        [0, 0, 0,  ..., 0, 0, 0],\n",
       "        [0, 0, 0,  ..., 0, 0, 0],\n",
       "        ...,\n",
       "        [0, 0, 0,  ..., 0, 0, 0],\n",
       "        [0, 0, 0,  ..., 0, 0, 0],\n",
       "        [0, 0, 0,  ..., 0, 0, 0]])"
      ]
     },
     "execution_count": 13,
     "metadata": {},
     "output_type": "execute_result"
    }
   ],
   "source": [
    "prediction"
   ]
  },
  {
   "cell_type": "code",
   "execution_count": 14,
   "metadata": {},
   "outputs": [],
   "source": [
    "predictions = []\n",
    "for sample in predict_data_loader:\n",
    "    output_logits, _ = model.forward(sample.from_token, sample.path_nodes, sample.to_token, sample.contexts_per_label, sample.labels.shape[0])\n",
    "    predictions.append(output_logits.argmax(-1))"
   ]
  },
  {
   "cell_type": "code",
   "execution_count": 15,
   "metadata": {},
   "outputs": [
    {
     "data": {
      "text/plain": [
       "5"
      ]
     },
     "execution_count": 15,
     "metadata": {},
     "output_type": "execute_result"
    }
   ],
   "source": [
    "len(predictions)"
   ]
  }
 ],
 "metadata": {
  "kernelspec": {
   "display_name": "venv",
   "language": "python",
   "name": "python3"
  },
  "language_info": {
   "codemirror_mode": {
    "name": "ipython",
    "version": 3
   },
   "file_extension": ".py",
   "mimetype": "text/x-python",
   "name": "python",
   "nbconvert_exporter": "python",
   "pygments_lexer": "ipython3",
   "version": "3.11.2"
  }
 },
 "nbformat": 4,
 "nbformat_minor": 2
}
