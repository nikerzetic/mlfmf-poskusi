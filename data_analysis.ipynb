{
 "cells": [
  {
   "cell_type": "code",
   "execution_count": 1,
   "metadata": {},
   "outputs": [],
   "source": [
    "import pandas as pd\n",
    "import matplotlib.pyplot as plt"
   ]
  },
  {
   "cell_type": "code",
   "execution_count": 2,
   "metadata": {},
   "outputs": [
    {
     "data": {
      "text/html": [
       "<div>\n",
       "<style scoped>\n",
       "    .dataframe tbody tr th:only-of-type {\n",
       "        vertical-align: middle;\n",
       "    }\n",
       "\n",
       "    .dataframe tbody tr th {\n",
       "        vertical-align: top;\n",
       "    }\n",
       "\n",
       "    .dataframe thead th {\n",
       "        text-align: right;\n",
       "    }\n",
       "</style>\n",
       "<table border=\"1\" class=\"dataframe\">\n",
       "  <thead>\n",
       "    <tr style=\"text-align: right;\">\n",
       "      <th></th>\n",
       "      <th>file_name</th>\n",
       "      <th>entry_type</th>\n",
       "      <th>num_nodes</th>\n",
       "      <th>num_edges</th>\n",
       "      <th>num_leaves</th>\n",
       "      <th>num_names</th>\n",
       "    </tr>\n",
       "  </thead>\n",
       "  <tbody>\n",
       "    <tr>\n",
       "      <th>0</th>\n",
       "      <td>Agda.Builtin.Bool_0000.dag</td>\n",
       "      <td>constructor</td>\n",
       "      <td>16</td>\n",
       "      <td>15</td>\n",
       "      <td>6</td>\n",
       "      <td>3</td>\n",
       "    </tr>\n",
       "    <tr>\n",
       "      <th>1</th>\n",
       "      <td>Agda.Builtin.Bool_0001.dag</td>\n",
       "      <td>data</td>\n",
       "      <td>10</td>\n",
       "      <td>9</td>\n",
       "      <td>4</td>\n",
       "      <td>3</td>\n",
       "    </tr>\n",
       "    <tr>\n",
       "      <th>2</th>\n",
       "      <td>Agda.Builtin.Bool_0002.dag</td>\n",
       "      <td>data</td>\n",
       "      <td>10</td>\n",
       "      <td>9</td>\n",
       "      <td>4</td>\n",
       "      <td>3</td>\n",
       "    </tr>\n",
       "    <tr>\n",
       "      <th>3</th>\n",
       "      <td>Agda.Builtin.Char.Properties_0000.dag</td>\n",
       "      <td>axiom</td>\n",
       "      <td>91</td>\n",
       "      <td>90</td>\n",
       "      <td>43</td>\n",
       "      <td>9</td>\n",
       "    </tr>\n",
       "    <tr>\n",
       "      <th>4</th>\n",
       "      <td>Agda.Builtin.Char_0000.dag</td>\n",
       "      <td>axiom</td>\n",
       "      <td>11</td>\n",
       "      <td>10</td>\n",
       "      <td>4</td>\n",
       "      <td>1</td>\n",
       "    </tr>\n",
       "    <tr>\n",
       "      <th>...</th>\n",
       "      <td>...</td>\n",
       "      <td>...</td>\n",
       "      <td>...</td>\n",
       "      <td>...</td>\n",
       "      <td>...</td>\n",
       "      <td>...</td>\n",
       "    </tr>\n",
       "    <tr>\n",
       "      <th>16478</th>\n",
       "      <td>Text.Printf_0003.dag</td>\n",
       "      <td>function</td>\n",
       "      <td>685</td>\n",
       "      <td>684</td>\n",
       "      <td>325</td>\n",
       "      <td>73</td>\n",
       "    </tr>\n",
       "    <tr>\n",
       "      <th>16479</th>\n",
       "      <td>Text.Printf_0004.dag</td>\n",
       "      <td>function</td>\n",
       "      <td>1154</td>\n",
       "      <td>1153</td>\n",
       "      <td>680</td>\n",
       "      <td>153</td>\n",
       "    </tr>\n",
       "    <tr>\n",
       "      <th>16480</th>\n",
       "      <td>Text.Printf_0005.dag</td>\n",
       "      <td>function</td>\n",
       "      <td>382</td>\n",
       "      <td>381</td>\n",
       "      <td>218</td>\n",
       "      <td>57</td>\n",
       "    </tr>\n",
       "    <tr>\n",
       "      <th>16481</th>\n",
       "      <td>Text.Printf_0006.dag</td>\n",
       "      <td>function</td>\n",
       "      <td>303</td>\n",
       "      <td>302</td>\n",
       "      <td>171</td>\n",
       "      <td>45</td>\n",
       "    </tr>\n",
       "    <tr>\n",
       "      <th>16482</th>\n",
       "      <td>Text.Printf_0007.dag</td>\n",
       "      <td>record</td>\n",
       "      <td>55</td>\n",
       "      <td>54</td>\n",
       "      <td>22</td>\n",
       "      <td>7</td>\n",
       "    </tr>\n",
       "  </tbody>\n",
       "</table>\n",
       "<p>16483 rows × 6 columns</p>\n",
       "</div>"
      ],
      "text/plain": [
       "                                   file_name   entry_type  num_nodes  \\\n",
       "0                 Agda.Builtin.Bool_0000.dag  constructor         16   \n",
       "1                 Agda.Builtin.Bool_0001.dag         data         10   \n",
       "2                 Agda.Builtin.Bool_0002.dag         data         10   \n",
       "3      Agda.Builtin.Char.Properties_0000.dag        axiom         91   \n",
       "4                 Agda.Builtin.Char_0000.dag        axiom         11   \n",
       "...                                      ...          ...        ...   \n",
       "16478                   Text.Printf_0003.dag     function        685   \n",
       "16479                   Text.Printf_0004.dag     function       1154   \n",
       "16480                   Text.Printf_0005.dag     function        382   \n",
       "16481                   Text.Printf_0006.dag     function        303   \n",
       "16482                   Text.Printf_0007.dag       record         55   \n",
       "\n",
       "       num_edges  num_leaves  num_names  \n",
       "0             15           6          3  \n",
       "1              9           4          3  \n",
       "2              9           4          3  \n",
       "3             90          43          9  \n",
       "4             10           4          1  \n",
       "...          ...         ...        ...  \n",
       "16478        684         325         73  \n",
       "16479       1153         680        153  \n",
       "16480        381         218         57  \n",
       "16481        302         171         45  \n",
       "16482         54          22          7  \n",
       "\n",
       "[16483 rows x 6 columns]"
      ]
     },
     "execution_count": 2,
     "metadata": {},
     "output_type": "execute_result"
    }
   ],
   "source": [
    "entries_stats = pd.read_csv(\"D:\\\\Nik\\\\Projects\\\\mlfmf-poskusi\\\\stdlib\\\\entries_stats.tsv\", sep=\"\\t\")\n",
    "entries_stats"
   ]
  },
  {
   "cell_type": "code",
   "execution_count": 3,
   "metadata": {},
   "outputs": [
    {
     "data": {
      "image/png": "[encoded data removed]",
      "text/plain": [
       "<Figure size 640x480 with 1 Axes>"
      ]
     },
     "metadata": {},
     "output_type": "display_data"
    }
   ],
   "source": [
    "_ = plt.hist(\n",
    "    entries_stats[\"num_leaves\"], \n",
    "    bins=50, \n",
    "    range=(0,2000),\n",
    "    # log=True,\n",
    "    )"
   ]
  },
  {
   "cell_type": "code",
   "execution_count": 4,
   "metadata": {},
   "outputs": [
    {
     "data": {
      "image/png": "[encoded data removed]",
      "text/plain": [
       "<Figure size 640x480 with 1 Axes>"
      ]
     },
     "metadata": {},
     "output_type": "display_data"
    }
   ],
   "source": [
    "_ = plt.hist(\n",
    "    entries_stats[\"num_names\"], \n",
    "    bins=50, \n",
    "    range=(0,200),\n",
    "    # log=True,\n",
    "    )"
   ]
  },
  {
   "cell_type": "code",
   "execution_count": 5,
   "metadata": {},
   "outputs": [
    {
     "data": {
      "image/png": "[encoded data removed]",
      "text/plain": [
       "<Figure size 640x480 with 1 Axes>"
      ]
     },
     "metadata": {},
     "output_type": "display_data"
    }
   ],
   "source": [
    "_ = plt.hist(\n",
    "    entries_stats[\"num_nodes\"], \n",
    "    bins=50, \n",
    "    range=(0,2000),\n",
    "    # log=True,\n",
    "    )"
   ]
  },
  {
   "cell_type": "code",
   "execution_count": 6,
   "metadata": {},
   "outputs": [
    {
     "data": {
      "image/png": "[encoded data removed]",
      "text/plain": [
       "<Figure size 640x480 with 1 Axes>"
      ]
     },
     "metadata": {},
     "output_type": "display_data"
    }
   ],
   "source": [
    "_ = plt.hist(\n",
    "    entries_stats[\"num_edges\"], \n",
    "    bins=50, \n",
    "    range=(0,2000),\n",
    "    # log=True,\n",
    "    )"
   ]
  },
  {
   "cell_type": "code",
   "execution_count": 7,
   "metadata": {},
   "outputs": [
    {
     "data": {
      "text/html": [
       "<div>\n",
       "<style scoped>\n",
       "    .dataframe tbody tr th:only-of-type {\n",
       "        vertical-align: middle;\n",
       "    }\n",
       "\n",
       "    .dataframe tbody tr th {\n",
       "        vertical-align: top;\n",
       "    }\n",
       "\n",
       "    .dataframe thead th {\n",
       "        text-align: right;\n",
       "    }\n",
       "</style>\n",
       "<table border=\"1\" class=\"dataframe\">\n",
       "  <thead>\n",
       "    <tr style=\"text-align: right;\">\n",
       "      <th></th>\n",
       "      <th>file_name</th>\n",
       "      <th>num_nodes</th>\n",
       "      <th>num_edges</th>\n",
       "      <th>num_leaves</th>\n",
       "      <th>num_names</th>\n",
       "    </tr>\n",
       "  </thead>\n",
       "  <tbody>\n",
       "    <tr>\n",
       "      <th>18</th>\n",
       "      <td>Agda.Builtin.Coinduction_0000.dag</td>\n",
       "      <td>48</td>\n",
       "      <td>47</td>\n",
       "      <td>11</td>\n",
       "      <td>4</td>\n",
       "    </tr>\n",
       "    <tr>\n",
       "      <th>21</th>\n",
       "      <td>Agda.Builtin.Cubical.Glue_0000.dag</td>\n",
       "      <td>462</td>\n",
       "      <td>461</td>\n",
       "      <td>150</td>\n",
       "      <td>10</td>\n",
       "    </tr>\n",
       "    <tr>\n",
       "      <th>22</th>\n",
       "      <td>Agda.Builtin.Cubical.Glue_0001.dag</td>\n",
       "      <td>276</td>\n",
       "      <td>275</td>\n",
       "      <td>64</td>\n",
       "      <td>6</td>\n",
       "    </tr>\n",
       "    <tr>\n",
       "      <th>23</th>\n",
       "      <td>Agda.Builtin.Cubical.Glue_0002.dag</td>\n",
       "      <td>386</td>\n",
       "      <td>385</td>\n",
       "      <td>148</td>\n",
       "      <td>26</td>\n",
       "    </tr>\n",
       "    <tr>\n",
       "      <th>24</th>\n",
       "      <td>Agda.Builtin.Cubical.Glue_0003.dag</td>\n",
       "      <td>294</td>\n",
       "      <td>293</td>\n",
       "      <td>96</td>\n",
       "      <td>16</td>\n",
       "    </tr>\n",
       "    <tr>\n",
       "      <th>...</th>\n",
       "      <td>...</td>\n",
       "      <td>...</td>\n",
       "      <td>...</td>\n",
       "      <td>...</td>\n",
       "      <td>...</td>\n",
       "    </tr>\n",
       "    <tr>\n",
       "      <th>16477</th>\n",
       "      <td>Text.Printf_0002.dag</td>\n",
       "      <td>399</td>\n",
       "      <td>398</td>\n",
       "      <td>197</td>\n",
       "      <td>51</td>\n",
       "    </tr>\n",
       "    <tr>\n",
       "      <th>16478</th>\n",
       "      <td>Text.Printf_0003.dag</td>\n",
       "      <td>685</td>\n",
       "      <td>684</td>\n",
       "      <td>325</td>\n",
       "      <td>73</td>\n",
       "    </tr>\n",
       "    <tr>\n",
       "      <th>16479</th>\n",
       "      <td>Text.Printf_0004.dag</td>\n",
       "      <td>1154</td>\n",
       "      <td>1153</td>\n",
       "      <td>680</td>\n",
       "      <td>153</td>\n",
       "    </tr>\n",
       "    <tr>\n",
       "      <th>16480</th>\n",
       "      <td>Text.Printf_0005.dag</td>\n",
       "      <td>382</td>\n",
       "      <td>381</td>\n",
       "      <td>218</td>\n",
       "      <td>57</td>\n",
       "    </tr>\n",
       "    <tr>\n",
       "      <th>16481</th>\n",
       "      <td>Text.Printf_0006.dag</td>\n",
       "      <td>303</td>\n",
       "      <td>302</td>\n",
       "      <td>171</td>\n",
       "      <td>45</td>\n",
       "    </tr>\n",
       "  </tbody>\n",
       "</table>\n",
       "<p>13226 rows × 5 columns</p>\n",
       "</div>"
      ],
      "text/plain": [
       "                                file_name  num_nodes  num_edges  num_leaves  \\\n",
       "18      Agda.Builtin.Coinduction_0000.dag         48         47          11   \n",
       "21     Agda.Builtin.Cubical.Glue_0000.dag        462        461         150   \n",
       "22     Agda.Builtin.Cubical.Glue_0001.dag        276        275          64   \n",
       "23     Agda.Builtin.Cubical.Glue_0002.dag        386        385         148   \n",
       "24     Agda.Builtin.Cubical.Glue_0003.dag        294        293          96   \n",
       "...                                   ...        ...        ...         ...   \n",
       "16477                Text.Printf_0002.dag        399        398         197   \n",
       "16478                Text.Printf_0003.dag        685        684         325   \n",
       "16479                Text.Printf_0004.dag       1154       1153         680   \n",
       "16480                Text.Printf_0005.dag        382        381         218   \n",
       "16481                Text.Printf_0006.dag        303        302         171   \n",
       "\n",
       "       num_names  \n",
       "18             4  \n",
       "21            10  \n",
       "22             6  \n",
       "23            26  \n",
       "24            16  \n",
       "...          ...  \n",
       "16477         51  \n",
       "16478         73  \n",
       "16479        153  \n",
       "16480         57  \n",
       "16481         45  \n",
       "\n",
       "[13226 rows x 5 columns]"
      ]
     },
     "execution_count": 7,
     "metadata": {},
     "output_type": "execute_result"
    }
   ],
   "source": [
    "function_entries = entries_stats[entries_stats[\"entry_type\"] == \"function\"].drop(\"entry_type\", axis=1)\n",
    "function_entries"
   ]
  },
  {
   "cell_type": "code",
   "execution_count": 10,
   "metadata": {},
   "outputs": [
    {
     "data": {
      "image/png": "[encoded data removed]",
      "text/plain": [
       "<Figure size 640x480 with 1 Axes>"
      ]
     },
     "metadata": {},
     "output_type": "display_data"
    }
   ],
   "source": [
    "_ = plt.hist(\n",
    "    function_entries[\"num_leaves\"],\n",
    "    bins = 50,\n",
    "    range=(0,1000),\n",
    ")"
   ]
  }
 ],
 "metadata": {
  "kernelspec": {
   "display_name": "venv",
   "language": "python",
   "name": "python3"
  },
  "language_info": {
   "codemirror_mode": {
    "name": "ipython",
    "version": 3
   },
   "file_extension": ".py",
   "mimetype": "text/x-python",
   "name": "python",
   "nbconvert_exporter": "python",
   "pygments_lexer": "ipython3",
   "version": "3.11.2"
  }
 },
 "nbformat": 4,
 "nbformat_minor": 2
}
