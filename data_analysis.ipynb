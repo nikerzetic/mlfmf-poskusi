{
 "cells": [
  {
   "cell_type": "code",
   "execution_count": 1,
   "metadata": {},
   "outputs": [],
   "source": [
    "import os\n",
    "import tqdm\n",
    "\n",
    "import entries_extractor as ee\n",
    "\n",
    "import pandas as pd\n",
    "\n",
    "import numpy as np\n",
    "\n",
    "import matplotlib.pyplot as plt"
   ]
  },
  {
   "cell_type": "code",
   "execution_count": null,
   "metadata": {},
   "outputs": [],
   "source": [
    "def number_of_unique_pairs(total: int) -> int:\n",
    "    \"\"\"\n",
    "    `total-1` paths from the first, `total-2` from the second...\n",
    "    \"\"\"\n",
    "    return total * (total - 1) / 2\n",
    "\n",
    "\n",
    "def generate_report(library_path: str):\n",
    "    import pandas as pd\n",
    "\n",
    "    leaves = 0\n",
    "    entries = 0\n",
    "    paths = 0\n",
    "    name_paths = 0\n",
    "    max_leaves = 0\n",
    "    max_entry = None\n",
    "    functions = 0\n",
    "    function_paths = 0\n",
    "    entries_dir = os.path.join(library_path, \"entries\")\n",
    "    log = open(os.path.join(library_path, \"entries_stats.tsv\"), \"w\", encoding=\"utf-8\")\n",
    "    log.write(\"file_name\\tentry_type\\tnum_nodes\\tnum_edges\\tnum_leaves\\tnum_names\")\n",
    "\n",
    "    labels_dict = {}\n",
    "    with open(os.path.join(library_path, \"nodes.tsv\"), \"r\", encoding=\"utf-8\") as f:\n",
    "        f.readline()\n",
    "        for line in f:\n",
    "            parts = line.split(\"\\t\")\n",
    "            labels_dict[str(parts[0])] = eval(parts[1])\n",
    "\n",
    "    print(\"Calculating total number of paths...\")\n",
    "    for file in tqdm.tqdm(os.listdir(entries_dir)):\n",
    "        if not file.endswith(\".dag\"):\n",
    "            continue\n",
    "        entries += 1\n",
    "        entry_nodes = 0\n",
    "        entry_edges = 0\n",
    "        entry_leaves = 0\n",
    "        entry_names = 0\n",
    "        with open(os.path.join(entries_dir, file), \"r\", encoding=\"utf-8\") as f:\n",
    "            f.readline()  # id, type, description, children ids\n",
    "            name = None\n",
    "            for line in f:\n",
    "                entry_nodes += 1\n",
    "                parts = line.split(\"\\t\")\n",
    "                node_type = parts[1]\n",
    "                node_children = eval(parts[3])\n",
    "\n",
    "                if not node_children:\n",
    "                    leaves += 1\n",
    "                    entry_leaves += 1\n",
    "                else:\n",
    "                    entry_edges += len(node_children)\n",
    "                if node_type == \":name\":\n",
    "                    if not name:\n",
    "                        name = str(parts[2]).replace('\"', \"\")\n",
    "                    entry_names += 1\n",
    "\n",
    "        entry_type = labels_dict[name][\"label\"].replace(\":\", \"\")\n",
    "\n",
    "        if entry_type == \"function\":\n",
    "            functions += 1\n",
    "            function_paths += number_of_unique_pairs(entry_leaves)\n",
    "            # if function_paths_carry >= BILLION:\n",
    "            #     function_paths_billions += function_paths_carry // BILLION\n",
    "            #     function_paths_carry = function_paths_carry % BILLION\n",
    "\n",
    "        log.write(\n",
    "            f\"\\n{file}\\t{entry_type}\\t{entry_nodes}\\t{entry_edges}\\t{entry_leaves}\\t{entry_names}\"\n",
    "        )\n",
    "        paths += number_of_unique_pairs(entry_leaves)\n",
    "        name_paths += number_of_unique_pairs(entry_names)\n",
    "        # if paths_carry >= BILLION:\n",
    "        #     paths_billions += paths_carry // BILLION\n",
    "        #     paths_carry = paths_carry % BILLION\n",
    "        # if name_paths_carry >= BILLION:\n",
    "        #     name_paths_billions += name_paths_carry // BILLION\n",
    "        #     name_paths_carry = name_paths_carry % BILLION\n",
    "        if entry_leaves > max_leaves:\n",
    "            max_leaves = entry_leaves\n",
    "            max_entry = file\n",
    "\n",
    "    log.close()\n",
    "\n",
    "    print(\"Making numbers printable...\")\n",
    "    paths_power = 0\n",
    "    name_paths_power = 0\n",
    "    function_paths_power = 0\n",
    "    while paths > 10:\n",
    "        paths_power += 1\n",
    "        paths = paths // 10\n",
    "    while name_paths > 10:\n",
    "        name_paths_power += 1\n",
    "        name_paths = name_paths // 10\n",
    "    while function_paths > 10:\n",
    "        function_paths_power += 1\n",
    "        function_paths = function_paths // 10\n",
    "\n",
    "    print(\n",
    "        \"-------REPORT-------\",\n",
    "        \"\\nTotal number of leaves: \",\n",
    "        leaves,\n",
    "        f\"\\n\\tOn average {leaves / entries} leaves for each entry.\",\n",
    "        \"\\n\\tMax leaves: \",\n",
    "        max_leaves,\n",
    "        \"\\n\\tEntry with most leaves: \",\n",
    "        max_entry,\n",
    "        f\"\\nTotal paths (billions): {paths} * 10^{paths_power}\",\n",
    "        f\"\\nTotal paths between :name entries (billions): {name_paths} * 10^{name_paths_power}\",\n",
    "        f\"\\nTotal paths in :function entries (billions): {function_paths} * 10^{function_paths_power}\",\n",
    "        \"\\n\\tTotal :function entries: \",\n",
    "        functions,\n",
    "    )"
   ]
  },
  {
   "cell_type": "code",
   "execution_count": 2,
   "metadata": {},
   "outputs": [
    {
     "data": {
      "text/html": [
       "<div>\n",
       "<style scoped>\n",
       "    .dataframe tbody tr th:only-of-type {\n",
       "        vertical-align: middle;\n",
       "    }\n",
       "\n",
       "    .dataframe tbody tr th {\n",
       "        vertical-align: top;\n",
       "    }\n",
       "\n",
       "    .dataframe thead th {\n",
       "        text-align: right;\n",
       "    }\n",
       "</style>\n",
       "<table border=\"1\" class=\"dataframe\">\n",
       "  <thead>\n",
       "    <tr style=\"text-align: right;\">\n",
       "      <th></th>\n",
       "      <th>file_name</th>\n",
       "      <th>entry_type</th>\n",
       "      <th>num_nodes</th>\n",
       "      <th>num_edges</th>\n",
       "      <th>num_leaves</th>\n",
       "      <th>num_names</th>\n",
       "    </tr>\n",
       "  </thead>\n",
       "  <tbody>\n",
       "    <tr>\n",
       "      <th>0</th>\n",
       "      <td>Relation.Binary.Bundles_0236.dag</td>\n",
       "      <td>function</td>\n",
       "      <td>224</td>\n",
       "      <td>223</td>\n",
       "      <td>101</td>\n",
       "      <td>19</td>\n",
       "    </tr>\n",
       "    <tr>\n",
       "      <th>1</th>\n",
       "      <td>Algebra.Lattice.Structures_0219.dag</td>\n",
       "      <td>function</td>\n",
       "      <td>537</td>\n",
       "      <td>536</td>\n",
       "      <td>246</td>\n",
       "      <td>19</td>\n",
       "    </tr>\n",
       "    <tr>\n",
       "      <th>2</th>\n",
       "      <td>Algebra.Bundles_1163.dag</td>\n",
       "      <td>function</td>\n",
       "      <td>275</td>\n",
       "      <td>274</td>\n",
       "      <td>123</td>\n",
       "      <td>15</td>\n",
       "    </tr>\n",
       "    <tr>\n",
       "      <th>3</th>\n",
       "      <td>Function.Related.TypeIsomorphisms_0015.dag</td>\n",
       "      <td>function</td>\n",
       "      <td>174</td>\n",
       "      <td>173</td>\n",
       "      <td>90</td>\n",
       "      <td>14</td>\n",
       "    </tr>\n",
       "    <tr>\n",
       "      <th>4</th>\n",
       "      <td>Relation.Binary.Lattice.Structures_0119.dag</td>\n",
       "      <td>function</td>\n",
       "      <td>487</td>\n",
       "      <td>486</td>\n",
       "      <td>224</td>\n",
       "      <td>21</td>\n",
       "    </tr>\n",
       "    <tr>\n",
       "      <th>...</th>\n",
       "      <td>...</td>\n",
       "      <td>...</td>\n",
       "      <td>...</td>\n",
       "      <td>...</td>\n",
       "      <td>...</td>\n",
       "      <td>...</td>\n",
       "    </tr>\n",
       "    <tr>\n",
       "      <th>16478</th>\n",
       "      <td>Algebra.Morphism.Structures_0939.dag</td>\n",
       "      <td>record</td>\n",
       "      <td>278</td>\n",
       "      <td>277</td>\n",
       "      <td>132</td>\n",
       "      <td>18</td>\n",
       "    </tr>\n",
       "    <tr>\n",
       "      <th>16479</th>\n",
       "      <td>Algebra.Solver.Ring.AlmostCommutativeRing_0184...</td>\n",
       "      <td>function</td>\n",
       "      <td>306</td>\n",
       "      <td>305</td>\n",
       "      <td>134</td>\n",
       "      <td>28</td>\n",
       "    </tr>\n",
       "    <tr>\n",
       "      <th>16480</th>\n",
       "      <td>Data.Maybe.Properties_0016.dag</td>\n",
       "      <td>function</td>\n",
       "      <td>246</td>\n",
       "      <td>245</td>\n",
       "      <td>96</td>\n",
       "      <td>13</td>\n",
       "    </tr>\n",
       "    <tr>\n",
       "      <th>16481</th>\n",
       "      <td>Algebra.Morphism.Structures_0759.dag</td>\n",
       "      <td>record</td>\n",
       "      <td>239</td>\n",
       "      <td>238</td>\n",
       "      <td>105</td>\n",
       "      <td>15</td>\n",
       "    </tr>\n",
       "    <tr>\n",
       "      <th>16482</th>\n",
       "      <td>Algebra.Bundles_0630.dag</td>\n",
       "      <td>function</td>\n",
       "      <td>240</td>\n",
       "      <td>239</td>\n",
       "      <td>103</td>\n",
       "      <td>14</td>\n",
       "    </tr>\n",
       "  </tbody>\n",
       "</table>\n",
       "<p>16483 rows × 6 columns</p>\n",
       "</div>"
      ],
      "text/plain": [
       "                                               file_name entry_type  \\\n",
       "0                       Relation.Binary.Bundles_0236.dag   function   \n",
       "1                    Algebra.Lattice.Structures_0219.dag   function   \n",
       "2                               Algebra.Bundles_1163.dag   function   \n",
       "3             Function.Related.TypeIsomorphisms_0015.dag   function   \n",
       "4            Relation.Binary.Lattice.Structures_0119.dag   function   \n",
       "...                                                  ...        ...   \n",
       "16478               Algebra.Morphism.Structures_0939.dag     record   \n",
       "16479  Algebra.Solver.Ring.AlmostCommutativeRing_0184...   function   \n",
       "16480                     Data.Maybe.Properties_0016.dag   function   \n",
       "16481               Algebra.Morphism.Structures_0759.dag     record   \n",
       "16482                           Algebra.Bundles_0630.dag   function   \n",
       "\n",
       "       num_nodes  num_edges  num_leaves  num_names  \n",
       "0            224        223         101         19  \n",
       "1            537        536         246         19  \n",
       "2            275        274         123         15  \n",
       "3            174        173          90         14  \n",
       "4            487        486         224         21  \n",
       "...          ...        ...         ...        ...  \n",
       "16478        278        277         132         18  \n",
       "16479        306        305         134         28  \n",
       "16480        246        245          96         13  \n",
       "16481        239        238         105         15  \n",
       "16482        240        239         103         14  \n",
       "\n",
       "[16483 rows x 6 columns]"
      ]
     },
     "execution_count": 2,
     "metadata": {},
     "output_type": "execute_result"
    }
   ],
   "source": [
    "entries_stats = pd.read_csv(\"./data/raw/stdlib/entries_stats.tsv\", sep=\"\\t\")\n",
    "entries_stats"
   ]
  },
  {
   "cell_type": "code",
   "execution_count": 3,
   "metadata": {},
   "outputs": [
    {
     "data": {
      "image/png": "[encoded data removed]",
      "text/plain": [
       "<Figure size 640x480 with 1 Axes>"
      ]
     },
     "metadata": {},
     "output_type": "display_data"
    }
   ],
   "source": [
    "_ = plt.hist(\n",
    "    entries_stats[\"num_leaves\"],\n",
    "    bins=50,\n",
    "    range=(0, 2000),\n",
    "    # log=True,\n",
    ")"
   ]
  },
  {
   "cell_type": "code",
   "execution_count": 4,
   "metadata": {},
   "outputs": [
    {
     "data": {
      "image/png": "[encoded data removed]",
      "text/plain": [
       "<Figure size 640x480 with 1 Axes>"
      ]
     },
     "metadata": {},
     "output_type": "display_data"
    }
   ],
   "source": [
    "_ = plt.hist(\n",
    "    entries_stats[\"num_names\"],\n",
    "    bins=50,\n",
    "    range=(0, 200),\n",
    "    # log=True,\n",
    ")"
   ]
  },
  {
   "cell_type": "code",
   "execution_count": 5,
   "metadata": {},
   "outputs": [
    {
     "data": {
      "image/png": "[encoded data removed]",
      "text/plain": [
       "<Figure size 640x480 with 1 Axes>"
      ]
     },
     "metadata": {},
     "output_type": "display_data"
    }
   ],
   "source": [
    "_ = plt.hist(\n",
    "    entries_stats[\"num_nodes\"],\n",
    "    bins=50,\n",
    "    range=(0, 2000),\n",
    "    # log=True,\n",
    ")"
   ]
  },
  {
   "cell_type": "code",
   "execution_count": 6,
   "metadata": {},
   "outputs": [
    {
     "data": {
      "image/png": "[encoded data removed]",
      "text/plain": [
       "<Figure size 640x480 with 1 Axes>"
      ]
     },
     "metadata": {},
     "output_type": "display_data"
    }
   ],
   "source": [
    "_ = plt.hist(\n",
    "    entries_stats[\"num_edges\"],\n",
    "    bins=50,\n",
    "    range=(0, 2000),\n",
    "    # log=True,\n",
    ")"
   ]
  },
  {
   "cell_type": "code",
   "execution_count": 7,
   "metadata": {},
   "outputs": [
    {
     "data": {
      "text/html": [
       "<div>\n",
       "<style scoped>\n",
       "    .dataframe tbody tr th:only-of-type {\n",
       "        vertical-align: middle;\n",
       "    }\n",
       "\n",
       "    .dataframe tbody tr th {\n",
       "        vertical-align: top;\n",
       "    }\n",
       "\n",
       "    .dataframe thead th {\n",
       "        text-align: right;\n",
       "    }\n",
       "</style>\n",
       "<table border=\"1\" class=\"dataframe\">\n",
       "  <thead>\n",
       "    <tr style=\"text-align: right;\">\n",
       "      <th></th>\n",
       "      <th>file_name</th>\n",
       "      <th>num_nodes</th>\n",
       "      <th>num_edges</th>\n",
       "      <th>num_leaves</th>\n",
       "      <th>num_names</th>\n",
       "    </tr>\n",
       "  </thead>\n",
       "  <tbody>\n",
       "    <tr>\n",
       "      <th>0</th>\n",
       "      <td>Relation.Binary.Bundles_0236.dag</td>\n",
       "      <td>224</td>\n",
       "      <td>223</td>\n",
       "      <td>101</td>\n",
       "      <td>19</td>\n",
       "    </tr>\n",
       "    <tr>\n",
       "      <th>1</th>\n",
       "      <td>Algebra.Lattice.Structures_0219.dag</td>\n",
       "      <td>537</td>\n",
       "      <td>536</td>\n",
       "      <td>246</td>\n",
       "      <td>19</td>\n",
       "    </tr>\n",
       "    <tr>\n",
       "      <th>2</th>\n",
       "      <td>Algebra.Bundles_1163.dag</td>\n",
       "      <td>275</td>\n",
       "      <td>274</td>\n",
       "      <td>123</td>\n",
       "      <td>15</td>\n",
       "    </tr>\n",
       "    <tr>\n",
       "      <th>3</th>\n",
       "      <td>Function.Related.TypeIsomorphisms_0015.dag</td>\n",
       "      <td>174</td>\n",
       "      <td>173</td>\n",
       "      <td>90</td>\n",
       "      <td>14</td>\n",
       "    </tr>\n",
       "    <tr>\n",
       "      <th>4</th>\n",
       "      <td>Relation.Binary.Lattice.Structures_0119.dag</td>\n",
       "      <td>487</td>\n",
       "      <td>486</td>\n",
       "      <td>224</td>\n",
       "      <td>21</td>\n",
       "    </tr>\n",
       "    <tr>\n",
       "      <th>...</th>\n",
       "      <td>...</td>\n",
       "      <td>...</td>\n",
       "      <td>...</td>\n",
       "      <td>...</td>\n",
       "      <td>...</td>\n",
       "    </tr>\n",
       "    <tr>\n",
       "      <th>16476</th>\n",
       "      <td>Algebra.Morphism.Structures_0125.dag</td>\n",
       "      <td>1048</td>\n",
       "      <td>1047</td>\n",
       "      <td>610</td>\n",
       "      <td>62</td>\n",
       "    </tr>\n",
       "    <tr>\n",
       "      <th>16477</th>\n",
       "      <td>Algebra.Solver.Ring.Lemmas_0015.dag</td>\n",
       "      <td>3365</td>\n",
       "      <td>3364</td>\n",
       "      <td>2031</td>\n",
       "      <td>345</td>\n",
       "    </tr>\n",
       "    <tr>\n",
       "      <th>16479</th>\n",
       "      <td>Algebra.Solver.Ring.AlmostCommutativeRing_0184...</td>\n",
       "      <td>306</td>\n",
       "      <td>305</td>\n",
       "      <td>134</td>\n",
       "      <td>28</td>\n",
       "    </tr>\n",
       "    <tr>\n",
       "      <th>16480</th>\n",
       "      <td>Data.Maybe.Properties_0016.dag</td>\n",
       "      <td>246</td>\n",
       "      <td>245</td>\n",
       "      <td>96</td>\n",
       "      <td>13</td>\n",
       "    </tr>\n",
       "    <tr>\n",
       "      <th>16482</th>\n",
       "      <td>Algebra.Bundles_0630.dag</td>\n",
       "      <td>240</td>\n",
       "      <td>239</td>\n",
       "      <td>103</td>\n",
       "      <td>14</td>\n",
       "    </tr>\n",
       "  </tbody>\n",
       "</table>\n",
       "<p>14881 rows × 5 columns</p>\n",
       "</div>"
      ],
      "text/plain": [
       "                                               file_name  num_nodes  \\\n",
       "0                       Relation.Binary.Bundles_0236.dag        224   \n",
       "1                    Algebra.Lattice.Structures_0219.dag        537   \n",
       "2                               Algebra.Bundles_1163.dag        275   \n",
       "3             Function.Related.TypeIsomorphisms_0015.dag        174   \n",
       "4            Relation.Binary.Lattice.Structures_0119.dag        487   \n",
       "...                                                  ...        ...   \n",
       "16476               Algebra.Morphism.Structures_0125.dag       1048   \n",
       "16477                Algebra.Solver.Ring.Lemmas_0015.dag       3365   \n",
       "16479  Algebra.Solver.Ring.AlmostCommutativeRing_0184...        306   \n",
       "16480                     Data.Maybe.Properties_0016.dag        246   \n",
       "16482                           Algebra.Bundles_0630.dag        240   \n",
       "\n",
       "       num_edges  num_leaves  num_names  \n",
       "0            223         101         19  \n",
       "1            536         246         19  \n",
       "2            274         123         15  \n",
       "3            173          90         14  \n",
       "4            486         224         21  \n",
       "...          ...         ...        ...  \n",
       "16476       1047         610         62  \n",
       "16477       3364        2031        345  \n",
       "16479        305         134         28  \n",
       "16480        245          96         13  \n",
       "16482        239         103         14  \n",
       "\n",
       "[14881 rows x 5 columns]"
      ]
     },
     "execution_count": 7,
     "metadata": {},
     "output_type": "execute_result"
    }
   ],
   "source": [
    "function_entries = entries_stats[entries_stats[\"entry_type\"] == \"function\"].drop(\n",
    "    \"entry_type\", axis=1\n",
    ")\n",
    "function_entries"
   ]
  },
  {
   "cell_type": "code",
   "execution_count": 8,
   "metadata": {},
   "outputs": [
    {
     "data": {
      "image/png": "[encoded data removed]",
      "text/plain": [
       "<Figure size 640x480 with 1 Axes>"
      ]
     },
     "metadata": {},
     "output_type": "display_data"
    }
   ],
   "source": [
    "_ = plt.hist(\n",
    "    function_entries[\"num_leaves\"],\n",
    "    bins=50,\n",
    "    range=(0, 1000),\n",
    ")"
   ]
  },
  {
   "cell_type": "code",
   "execution_count": 9,
   "metadata": {},
   "outputs": [],
   "source": [
    "def count_tokens_in_file(file_path: str):\n",
    "    entry_counts = {\n",
    "        \"entry\": [],\n",
    "        \"label parts\": [],\n",
    "        \"non-empty contexts\": [],\n",
    "        \"empty contexts\": [],\n",
    "        \"empty label subtokens\": [],\n",
    "        \"empty context subtokens\": [],\n",
    "    }\n",
    "    token_counts = {\n",
    "        \"entry\": [],\n",
    "        \"left\": [],\n",
    "        \"path\": [],\n",
    "        \"right\": [],\n",
    "        \"problems\": [],\n",
    "    }\n",
    "    with open(file_path, \"r\", encoding=\"utf-8\") as f:\n",
    "        for line_number, line in tqdm.tqdm(enumerate(f)):\n",
    "            line_number += 1\n",
    "            parts = line.strip(\"\\n\").split(\" \")\n",
    "            label_parts = parts[0].split(\"|\")\n",
    "\n",
    "            entry_counts[\"entry\"].append(line_number)\n",
    "            entry_counts[\"label parts\"].append(len(label_parts))\n",
    "            entry_counts[\"non-empty contexts\"].append(len(parts) - 1)\n",
    "            entry_counts[\"empty contexts\"].append(0)\n",
    "            entry_counts[\"empty label subtokens\"].append(0)\n",
    "            entry_counts[\"empty context subtokens\"].append(0)\n",
    "\n",
    "            for subtoken in label_parts:\n",
    "                if subtoken == \"\":\n",
    "                    entry_counts[\"empty label subtokens\"][-1] += 1\n",
    "\n",
    "            for i, context in enumerate(parts[1:]):\n",
    "                if context == \"\":\n",
    "                    entry_counts[\"non-empty contexts\"][-1] = i\n",
    "                    entry_counts[\"empty contexts\"][-1] = len(parts) - 1 - i\n",
    "                    break\n",
    "                subparts = context.split(\",\")\n",
    "                if len(subparts) < 3:\n",
    "                    token_counts[\"entry\"].append(line_number)\n",
    "                    token_counts[\"left\"].append(0)\n",
    "                    token_counts[\"path\"].append(0)\n",
    "                    token_counts[\"right\"].append(0)\n",
    "                    token_counts[\"problems\"].append(str(subparts))\n",
    "                left, path, right = subparts[:3]\n",
    "                # If there's an error in the data - an aditional comma - there could be more parts\n",
    "                problems = subparts[3:]\n",
    "\n",
    "                left_parts = left.split(\"|\")\n",
    "                path_nodes = path.split(\"|\")\n",
    "                right_parts = right.split(\"|\")\n",
    "\n",
    "                for part in left_parts:\n",
    "                    if part == \"\":\n",
    "                        entry_counts[\"empty context subtokens\"][-1] += 1\n",
    "                for part in right_parts:\n",
    "                    if part == \"\":\n",
    "                        entry_counts[\"empty context subtokens\"][-1] += 1\n",
    "\n",
    "                token_counts[\"entry\"].append(line_number)\n",
    "                token_counts[\"left\"].append(len(left_parts))\n",
    "                token_counts[\"path\"].append(len(path_nodes))\n",
    "                token_counts[\"right\"].append(len(right_parts))\n",
    "                token_counts[\"problems\"].append(str(problems))\n",
    "    return pd.DataFrame(entry_counts), pd.DataFrame(token_counts)"
   ]
  },
  {
   "cell_type": "code",
   "execution_count": 10,
   "metadata": {},
   "outputs": [
    {
     "name": "stderr",
     "output_type": "stream",
     "text": [
      "16483it [00:13, 1251.87it/s]\n"
     ]
    }
   ],
   "source": [
    "entry_counts, token_counts = count_tokens_in_file(\"./data/code2seq/stdlib/predict.c2s\")"
   ]
  },
  {
   "cell_type": "code",
   "execution_count": 11,
   "metadata": {},
   "outputs": [
    {
     "data": {
      "text/html": [
       "<div>\n",
       "<style scoped>\n",
       "    .dataframe tbody tr th:only-of-type {\n",
       "        vertical-align: middle;\n",
       "    }\n",
       "\n",
       "    .dataframe tbody tr th {\n",
       "        vertical-align: top;\n",
       "    }\n",
       "\n",
       "    .dataframe thead th {\n",
       "        text-align: right;\n",
       "    }\n",
       "</style>\n",
       "<table border=\"1\" class=\"dataframe\">\n",
       "  <thead>\n",
       "    <tr style=\"text-align: right;\">\n",
       "      <th></th>\n",
       "      <th>entry</th>\n",
       "      <th>label parts</th>\n",
       "      <th>non-empty contexts</th>\n",
       "      <th>empty contexts</th>\n",
       "      <th>empty label subtokens</th>\n",
       "      <th>empty context subtokens</th>\n",
       "    </tr>\n",
       "  </thead>\n",
       "  <tbody>\n",
       "    <tr>\n",
       "      <th>0</th>\n",
       "      <td>1</td>\n",
       "      <td>10</td>\n",
       "      <td>109</td>\n",
       "      <td>891</td>\n",
       "      <td>0</td>\n",
       "      <td>0</td>\n",
       "    </tr>\n",
       "    <tr>\n",
       "      <th>1</th>\n",
       "      <td>2</td>\n",
       "      <td>10</td>\n",
       "      <td>264</td>\n",
       "      <td>736</td>\n",
       "      <td>0</td>\n",
       "      <td>0</td>\n",
       "    </tr>\n",
       "    <tr>\n",
       "      <th>2</th>\n",
       "      <td>3</td>\n",
       "      <td>8</td>\n",
       "      <td>181</td>\n",
       "      <td>819</td>\n",
       "      <td>0</td>\n",
       "      <td>0</td>\n",
       "    </tr>\n",
       "    <tr>\n",
       "      <th>3</th>\n",
       "      <td>4</td>\n",
       "      <td>6</td>\n",
       "      <td>96</td>\n",
       "      <td>904</td>\n",
       "      <td>0</td>\n",
       "      <td>0</td>\n",
       "    </tr>\n",
       "    <tr>\n",
       "      <th>4</th>\n",
       "      <td>5</td>\n",
       "      <td>10</td>\n",
       "      <td>1000</td>\n",
       "      <td>0</td>\n",
       "      <td>0</td>\n",
       "      <td>0</td>\n",
       "    </tr>\n",
       "    <tr>\n",
       "      <th>...</th>\n",
       "      <td>...</td>\n",
       "      <td>...</td>\n",
       "      <td>...</td>\n",
       "      <td>...</td>\n",
       "      <td>...</td>\n",
       "      <td>...</td>\n",
       "    </tr>\n",
       "    <tr>\n",
       "      <th>16478</th>\n",
       "      <td>16479</td>\n",
       "      <td>3</td>\n",
       "      <td>15</td>\n",
       "      <td>985</td>\n",
       "      <td>0</td>\n",
       "      <td>0</td>\n",
       "    </tr>\n",
       "    <tr>\n",
       "      <th>16479</th>\n",
       "      <td>16480</td>\n",
       "      <td>12</td>\n",
       "      <td>200</td>\n",
       "      <td>800</td>\n",
       "      <td>0</td>\n",
       "      <td>0</td>\n",
       "    </tr>\n",
       "    <tr>\n",
       "      <th>16480</th>\n",
       "      <td>16481</td>\n",
       "      <td>10</td>\n",
       "      <td>200</td>\n",
       "      <td>800</td>\n",
       "      <td>0</td>\n",
       "      <td>0</td>\n",
       "    </tr>\n",
       "    <tr>\n",
       "      <th>16481</th>\n",
       "      <td>16482</td>\n",
       "      <td>11</td>\n",
       "      <td>200</td>\n",
       "      <td>800</td>\n",
       "      <td>0</td>\n",
       "      <td>0</td>\n",
       "    </tr>\n",
       "    <tr>\n",
       "      <th>16482</th>\n",
       "      <td>16483</td>\n",
       "      <td>6</td>\n",
       "      <td>21</td>\n",
       "      <td>979</td>\n",
       "      <td>0</td>\n",
       "      <td>0</td>\n",
       "    </tr>\n",
       "  </tbody>\n",
       "</table>\n",
       "<p>16483 rows × 6 columns</p>\n",
       "</div>"
      ],
      "text/plain": [
       "       entry  label parts  non-empty contexts  empty contexts  \\\n",
       "0          1           10                 109             891   \n",
       "1          2           10                 264             736   \n",
       "2          3            8                 181             819   \n",
       "3          4            6                  96             904   \n",
       "4          5           10                1000               0   \n",
       "...      ...          ...                 ...             ...   \n",
       "16478  16479            3                  15             985   \n",
       "16479  16480           12                 200             800   \n",
       "16480  16481           10                 200             800   \n",
       "16481  16482           11                 200             800   \n",
       "16482  16483            6                  21             979   \n",
       "\n",
       "       empty label subtokens  empty context subtokens  \n",
       "0                          0                        0  \n",
       "1                          0                        0  \n",
       "2                          0                        0  \n",
       "3                          0                        0  \n",
       "4                          0                        0  \n",
       "...                      ...                      ...  \n",
       "16478                      0                        0  \n",
       "16479                      0                        0  \n",
       "16480                      0                        0  \n",
       "16481                      0                        0  \n",
       "16482                      0                        0  \n",
       "\n",
       "[16483 rows x 6 columns]"
      ]
     },
     "execution_count": 11,
     "metadata": {},
     "output_type": "execute_result"
    }
   ],
   "source": [
    "entry_counts"
   ]
  },
  {
   "cell_type": "code",
   "execution_count": 12,
   "metadata": {},
   "outputs": [
    {
     "data": {
      "text/html": [
       "<div>\n",
       "<style scoped>\n",
       "    .dataframe tbody tr th:only-of-type {\n",
       "        vertical-align: middle;\n",
       "    }\n",
       "\n",
       "    .dataframe tbody tr th {\n",
       "        vertical-align: top;\n",
       "    }\n",
       "\n",
       "    .dataframe thead th {\n",
       "        text-align: right;\n",
       "    }\n",
       "</style>\n",
       "<table border=\"1\" class=\"dataframe\">\n",
       "  <thead>\n",
       "    <tr style=\"text-align: right;\">\n",
       "      <th></th>\n",
       "      <th>entry</th>\n",
       "      <th>label parts</th>\n",
       "      <th>non-empty contexts</th>\n",
       "      <th>empty contexts</th>\n",
       "      <th>empty label subtokens</th>\n",
       "      <th>empty context subtokens</th>\n",
       "    </tr>\n",
       "  </thead>\n",
       "  <tbody>\n",
       "  </tbody>\n",
       "</table>\n",
       "</div>"
      ],
      "text/plain": [
       "Empty DataFrame\n",
       "Columns: [entry, label parts, non-empty contexts, empty contexts, empty label subtokens, empty context subtokens]\n",
       "Index: []"
      ]
     },
     "execution_count": 12,
     "metadata": {},
     "output_type": "execute_result"
    }
   ],
   "source": [
    "entry_counts[entry_counts[\"empty context subtokens\"] != 0]"
   ]
  },
  {
   "cell_type": "code",
   "execution_count": 13,
   "metadata": {},
   "outputs": [
    {
     "name": "stdout",
     "output_type": "stream",
     "text": [
      "\n"
     ]
    },
    {
     "data": {
      "image/png": "[encoded data removed]",
      "text/plain": [
       "<Figure size 640x480 with 1 Axes>"
      ]
     },
     "metadata": {},
     "output_type": "display_data"
    }
   ],
   "source": [
    "plt.hist(entry_counts[\"non-empty contexts\"])\n",
    "plt.title(\"Number of non-empty contexts per entry\")\n",
    "plt.xlabel(\"number of non-empty contexts\")\n",
    "plt.ylabel(\"number of entries\")\n",
    "print()"
   ]
  },
  {
   "cell_type": "code",
   "execution_count": 14,
   "metadata": {},
   "outputs": [
    {
     "data": {
      "text/plain": [
       "Series([], Name: entry, dtype: int64)"
      ]
     },
     "execution_count": 14,
     "metadata": {},
     "output_type": "execute_result"
    }
   ],
   "source": [
    "entry_counts[entry_counts[\"non-empty contexts\"] == 0][\"entry\"]"
   ]
  },
  {
   "cell_type": "code",
   "execution_count": 15,
   "metadata": {},
   "outputs": [
    {
     "data": {
      "text/plain": [
       "3"
      ]
     },
     "execution_count": 15,
     "metadata": {},
     "output_type": "execute_result"
    },
    {
     "data": {
      "image/png": "[encoded data removed]",
      "text/plain": [
       "<Figure size 640x480 with 1 Axes>"
      ]
     },
     "metadata": {},
     "output_type": "display_data"
    }
   ],
   "source": [
    "plt.hist(entry_counts[\"label parts\"])\n",
    "plt.title(\"Lengths of labels\")\n",
    "plt.xlabel(\"label parts\")\n",
    "plt.ylabel(\"number of examples\")\n",
    "entry_counts[\"label parts\"][entry_counts[\"label parts\"] == 1].count()"
   ]
  },
  {
   "cell_type": "code",
   "execution_count": 16,
   "metadata": {},
   "outputs": [
    {
     "name": "stdout",
     "output_type": "stream",
     "text": [
      "\n"
     ]
    },
    {
     "data": {
      "image/png": "[encoded data removed]",
      "text/plain": [
       "<Figure size 640x480 with 1 Axes>"
      ]
     },
     "metadata": {},
     "output_type": "display_data"
    }
   ],
   "source": [
    "plt.hist(token_counts[\"path\"])\n",
    "plt.title(\"Path lengths\")\n",
    "plt.xlabel(\"path length\")\n",
    "plt.ylabel(\"number of examples\")\n",
    "print()"
   ]
  },
  {
   "cell_type": "code",
   "execution_count": 24,
   "metadata": {},
   "outputs": [
    {
     "name": "stdout",
     "output_type": "stream",
     "text": [
      "Quantiles:\n",
      "0.6    10.0\n",
      "0.7    11.0\n",
      "0.8    12.0\n",
      "0.9    13.0\n",
      "Name: path, dtype: float64\n"
     ]
    }
   ],
   "source": [
    "print(\"Quantiles:\", token_counts[\"path\"].quantile([0.6, 0.7, 0.8, 0.9]), sep=\"\\n\")"
   ]
  },
  {
   "cell_type": "code",
   "execution_count": 18,
   "metadata": {},
   "outputs": [],
   "source": [
    "left = pd.DataFrame({\"entry\": token_counts[\"entry\"], \"parts\": token_counts[\"left\"]})\n",
    "right = pd.DataFrame({\"entry\": token_counts[\"entry\"], \"parts\": token_counts[\"right\"]})\n",
    "\n",
    "tokens = pd.concat([left, right], ignore_index=True)\n",
    "combined_tokens = tokens[\"parts\"]"
   ]
  },
  {
   "cell_type": "code",
   "execution_count": 19,
   "metadata": {},
   "outputs": [
    {
     "name": "stdout",
     "output_type": "stream",
     "text": [
      "Min token length:\n",
      "1\n",
      "Max token length:\n",
      "23\n",
      "Mean token length:\n",
      "1.7107330866319925\n",
      "Median token length:\n",
      "1.0\n",
      "Token length quantiles 0.9, 0.99:\n",
      "[3. 5.]\n",
      "Percentage of empty tokens:\n",
      "0.0\n",
      "Number of empty tokens:\n",
      "0\n",
      "Percentage of tokens of length less than 2:\n",
      "0.7841292851003074\n",
      "Percentage of tokens of length less than 3:\n",
      "0.9542373869083174\n",
      "Percentage of tokens of length less than 4:\n",
      "0.9802658352637228\n"
     ]
    }
   ],
   "source": [
    "print(\n",
    "    \"Min token length:\",\n",
    "    np.min(combined_tokens),\n",
    "    \"Max token length:\",\n",
    "    np.max(combined_tokens),\n",
    "    \"Mean token length:\",\n",
    "    np.mean(combined_tokens),\n",
    "    \"Median token length:\",\n",
    "    np.median(combined_tokens),\n",
    "    \"Token length quantiles 0.9, 0.99:\",\n",
    "    np.quantile(combined_tokens, [0.9, 0.99]),\n",
    "    # np.percentile(combined_tokens, 0.9),\n",
    "    \"Percentage of empty tokens:\",\n",
    "    float(combined_tokens[combined_tokens <= 0].count()) / len(combined_tokens),\n",
    "    \"Number of empty tokens:\",\n",
    "    int(combined_tokens[combined_tokens <= 0].count()),\n",
    "    \"Percentage of tokens of length less than 2:\",\n",
    "    float(combined_tokens[combined_tokens <= 2].count()) / len(combined_tokens),\n",
    "    \"Percentage of tokens of length less than 3:\",\n",
    "    float(combined_tokens[combined_tokens <= 3].count()) / len(combined_tokens),\n",
    "    \"Percentage of tokens of length less than 4:\",\n",
    "    float(combined_tokens[combined_tokens <= 4].count()) / len(combined_tokens),\n",
    "    sep=\"\\n\",\n",
    ")"
   ]
  },
  {
   "cell_type": "code",
   "execution_count": 20,
   "metadata": {},
   "outputs": [
    {
     "data": {
      "text/html": [
       "<div>\n",
       "<style scoped>\n",
       "    .dataframe tbody tr th:only-of-type {\n",
       "        vertical-align: middle;\n",
       "    }\n",
       "\n",
       "    .dataframe tbody tr th {\n",
       "        vertical-align: top;\n",
       "    }\n",
       "\n",
       "    .dataframe thead th {\n",
       "        text-align: right;\n",
       "    }\n",
       "</style>\n",
       "<table border=\"1\" class=\"dataframe\">\n",
       "  <thead>\n",
       "    <tr style=\"text-align: right;\">\n",
       "      <th></th>\n",
       "      <th>parts</th>\n",
       "    </tr>\n",
       "    <tr>\n",
       "      <th>entry</th>\n",
       "      <th></th>\n",
       "    </tr>\n",
       "  </thead>\n",
       "  <tbody>\n",
       "  </tbody>\n",
       "</table>\n",
       "</div>"
      ],
      "text/plain": [
       "Empty DataFrame\n",
       "Columns: [parts]\n",
       "Index: []"
      ]
     },
     "execution_count": 20,
     "metadata": {},
     "output_type": "execute_result"
    }
   ],
   "source": [
    "entries_with_empty_tokens = tokens[tokens[\"parts\"] == 0].groupby([\"entry\"]).count()\n",
    "entries_with_empty_tokens"
   ]
  },
  {
   "cell_type": "code",
   "execution_count": 21,
   "metadata": {},
   "outputs": [
    {
     "data": {
      "text/html": [
       "<div>\n",
       "<style scoped>\n",
       "    .dataframe tbody tr th:only-of-type {\n",
       "        vertical-align: middle;\n",
       "    }\n",
       "\n",
       "    .dataframe tbody tr th {\n",
       "        vertical-align: top;\n",
       "    }\n",
       "\n",
       "    .dataframe thead th {\n",
       "        text-align: right;\n",
       "    }\n",
       "</style>\n",
       "<table border=\"1\" class=\"dataframe\">\n",
       "  <thead>\n",
       "    <tr style=\"text-align: right;\">\n",
       "      <th></th>\n",
       "      <th>entry</th>\n",
       "      <th>problems</th>\n",
       "    </tr>\n",
       "  </thead>\n",
       "  <tbody>\n",
       "  </tbody>\n",
       "</table>\n",
       "</div>"
      ],
      "text/plain": [
       "Empty DataFrame\n",
       "Columns: [entry, problems]\n",
       "Index: []"
      ]
     },
     "execution_count": 21,
     "metadata": {},
     "output_type": "execute_result"
    }
   ],
   "source": [
    "token_counts[(token_counts[\"left\"] == 0) | (token_counts[\"right\"] == 0)][\n",
    "    [\"entry\", \"problems\"]\n",
    "]"
   ]
  }
 ],
 "metadata": {
  "kernelspec": {
   "display_name": "venv",
   "language": "python",
   "name": "python3"
  },
  "language_info": {
   "codemirror_mode": {
    "name": "ipython",
    "version": 3
   },
   "file_extension": ".py",
   "mimetype": "text/x-python",
   "name": "python",
   "nbconvert_exporter": "python",
   "pygments_lexer": "ipython3",
   "version": "3.11.2"
  }
 },
 "nbformat": 4,
 "nbformat_minor": 2
}
